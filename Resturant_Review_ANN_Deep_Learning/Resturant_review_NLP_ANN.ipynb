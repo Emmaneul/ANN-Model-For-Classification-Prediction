{
  "cells": [
    {
      "cell_type": "markdown",
      "source": [
        "**AUTHOR**: EMMANUEL MASINDI<br>\n",
        "**DATE**: 02 NOVEMBER 2022<br>\n",
        "**TITLE**: *NLP PROJECT TO CREATE DEEP LEARNING ALGORITHM TO PREDICT RESTURANT REVIEWS*<br>"
      ],
      "metadata": {
        "id": "nogdYc9OPjss"
      },
      "id": "nogdYc9OPjss"
    },
    {
      "cell_type": "markdown",
      "source": [
        "In this project, we use an Artificial Neural Network to predict the Sentiment of resturant reviews. Using Neural Networks allows us to increase the number of classes the model can predict. In future excercises, we will to attempt to predict the Sentiment by utilizing a scale between 1 and 5. "
      ],
      "metadata": {
        "id": "yp-z7nMXQiNs"
      },
      "id": "yp-z7nMXQiNs"
    },
    {
      "cell_type": "markdown",
      "id": "22d3e142",
      "metadata": {
        "id": "22d3e142"
      },
      "source": [
        "**IMPORT LIBRARIES**"
      ]
    },
    {
      "cell_type": "code",
      "execution_count": 1,
      "id": "42cc92e4",
      "metadata": {
        "id": "42cc92e4"
      },
      "outputs": [],
      "source": [
        "import numpy as np\n",
        "import pandas as pd\n",
        "import seaborn as sns\n",
        "import matplotlib.pyplot as plt\n",
        "%matplotlib inline"
      ]
    },
    {
      "cell_type": "markdown",
      "id": "45c3e10c",
      "metadata": {
        "id": "45c3e10c"
      },
      "source": [
        "**IMPORT DATASET**"
      ]
    },
    {
      "cell_type": "code",
      "execution_count": 2,
      "id": "72158ec7",
      "metadata": {
        "id": "72158ec7"
      },
      "outputs": [],
      "source": [
        "# import dataset as a dataframe. Specify delimeter used to store data and specify quoting to eliminate confusion with quotation marks.\n",
        "dataset = pd.read_csv('Restaurant_Reviews.tsv', delimiter = '\\t', quoting = 3)"
      ]
    },
    {
      "cell_type": "code",
      "execution_count": 3,
      "id": "54d6d678",
      "metadata": {
        "colab": {
          "base_uri": "https://localhost:8080/",
          "height": 206
        },
        "id": "54d6d678",
        "outputId": "d69e475b-a6ab-4e34-ea29-fa9cb0769163"
      },
      "outputs": [
        {
          "output_type": "execute_result",
          "data": {
            "text/plain": [
              "                                              Review  Liked\n",
              "0                           Wow... Loved this place.      1\n",
              "1                                 Crust is not good.      0\n",
              "2          Not tasty and the texture was just nasty.      0\n",
              "3  Stopped by during the late May bank holiday of...      1\n",
              "4  The selection on the menu was great and so wer...      1"
            ],
            "text/html": [
              "\n",
              "  <div id=\"df-c45f0e65-437a-45d0-baa7-499f391bafe0\">\n",
              "    <div class=\"colab-df-container\">\n",
              "      <div>\n",
              "<style scoped>\n",
              "    .dataframe tbody tr th:only-of-type {\n",
              "        vertical-align: middle;\n",
              "    }\n",
              "\n",
              "    .dataframe tbody tr th {\n",
              "        vertical-align: top;\n",
              "    }\n",
              "\n",
              "    .dataframe thead th {\n",
              "        text-align: right;\n",
              "    }\n",
              "</style>\n",
              "<table border=\"1\" class=\"dataframe\">\n",
              "  <thead>\n",
              "    <tr style=\"text-align: right;\">\n",
              "      <th></th>\n",
              "      <th>Review</th>\n",
              "      <th>Liked</th>\n",
              "    </tr>\n",
              "  </thead>\n",
              "  <tbody>\n",
              "    <tr>\n",
              "      <th>0</th>\n",
              "      <td>Wow... Loved this place.</td>\n",
              "      <td>1</td>\n",
              "    </tr>\n",
              "    <tr>\n",
              "      <th>1</th>\n",
              "      <td>Crust is not good.</td>\n",
              "      <td>0</td>\n",
              "    </tr>\n",
              "    <tr>\n",
              "      <th>2</th>\n",
              "      <td>Not tasty and the texture was just nasty.</td>\n",
              "      <td>0</td>\n",
              "    </tr>\n",
              "    <tr>\n",
              "      <th>3</th>\n",
              "      <td>Stopped by during the late May bank holiday of...</td>\n",
              "      <td>1</td>\n",
              "    </tr>\n",
              "    <tr>\n",
              "      <th>4</th>\n",
              "      <td>The selection on the menu was great and so wer...</td>\n",
              "      <td>1</td>\n",
              "    </tr>\n",
              "  </tbody>\n",
              "</table>\n",
              "</div>\n",
              "      <button class=\"colab-df-convert\" onclick=\"convertToInteractive('df-c45f0e65-437a-45d0-baa7-499f391bafe0')\"\n",
              "              title=\"Convert this dataframe to an interactive table.\"\n",
              "              style=\"display:none;\">\n",
              "        \n",
              "  <svg xmlns=\"http://www.w3.org/2000/svg\" height=\"24px\"viewBox=\"0 0 24 24\"\n",
              "       width=\"24px\">\n",
              "    <path d=\"M0 0h24v24H0V0z\" fill=\"none\"/>\n",
              "    <path d=\"M18.56 5.44l.94 2.06.94-2.06 2.06-.94-2.06-.94-.94-2.06-.94 2.06-2.06.94zm-11 1L8.5 8.5l.94-2.06 2.06-.94-2.06-.94L8.5 2.5l-.94 2.06-2.06.94zm10 10l.94 2.06.94-2.06 2.06-.94-2.06-.94-.94-2.06-.94 2.06-2.06.94z\"/><path d=\"M17.41 7.96l-1.37-1.37c-.4-.4-.92-.59-1.43-.59-.52 0-1.04.2-1.43.59L10.3 9.45l-7.72 7.72c-.78.78-.78 2.05 0 2.83L4 21.41c.39.39.9.59 1.41.59.51 0 1.02-.2 1.41-.59l7.78-7.78 2.81-2.81c.8-.78.8-2.07 0-2.86zM5.41 20L4 18.59l7.72-7.72 1.47 1.35L5.41 20z\"/>\n",
              "  </svg>\n",
              "      </button>\n",
              "      \n",
              "  <style>\n",
              "    .colab-df-container {\n",
              "      display:flex;\n",
              "      flex-wrap:wrap;\n",
              "      gap: 12px;\n",
              "    }\n",
              "\n",
              "    .colab-df-convert {\n",
              "      background-color: #E8F0FE;\n",
              "      border: none;\n",
              "      border-radius: 50%;\n",
              "      cursor: pointer;\n",
              "      display: none;\n",
              "      fill: #1967D2;\n",
              "      height: 32px;\n",
              "      padding: 0 0 0 0;\n",
              "      width: 32px;\n",
              "    }\n",
              "\n",
              "    .colab-df-convert:hover {\n",
              "      background-color: #E2EBFA;\n",
              "      box-shadow: 0px 1px 2px rgba(60, 64, 67, 0.3), 0px 1px 3px 1px rgba(60, 64, 67, 0.15);\n",
              "      fill: #174EA6;\n",
              "    }\n",
              "\n",
              "    [theme=dark] .colab-df-convert {\n",
              "      background-color: #3B4455;\n",
              "      fill: #D2E3FC;\n",
              "    }\n",
              "\n",
              "    [theme=dark] .colab-df-convert:hover {\n",
              "      background-color: #434B5C;\n",
              "      box-shadow: 0px 1px 3px 1px rgba(0, 0, 0, 0.15);\n",
              "      filter: drop-shadow(0px 1px 2px rgba(0, 0, 0, 0.3));\n",
              "      fill: #FFFFFF;\n",
              "    }\n",
              "  </style>\n",
              "\n",
              "      <script>\n",
              "        const buttonEl =\n",
              "          document.querySelector('#df-c45f0e65-437a-45d0-baa7-499f391bafe0 button.colab-df-convert');\n",
              "        buttonEl.style.display =\n",
              "          google.colab.kernel.accessAllowed ? 'block' : 'none';\n",
              "\n",
              "        async function convertToInteractive(key) {\n",
              "          const element = document.querySelector('#df-c45f0e65-437a-45d0-baa7-499f391bafe0');\n",
              "          const dataTable =\n",
              "            await google.colab.kernel.invokeFunction('convertToInteractive',\n",
              "                                                     [key], {});\n",
              "          if (!dataTable) return;\n",
              "\n",
              "          const docLinkHtml = 'Like what you see? Visit the ' +\n",
              "            '<a target=\"_blank\" href=https://colab.research.google.com/notebooks/data_table.ipynb>data table notebook</a>'\n",
              "            + ' to learn more about interactive tables.';\n",
              "          element.innerHTML = '';\n",
              "          dataTable['output_type'] = 'display_data';\n",
              "          await google.colab.output.renderOutput(dataTable, element);\n",
              "          const docLink = document.createElement('div');\n",
              "          docLink.innerHTML = docLinkHtml;\n",
              "          element.appendChild(docLink);\n",
              "        }\n",
              "      </script>\n",
              "    </div>\n",
              "  </div>\n",
              "  "
            ]
          },
          "metadata": {},
          "execution_count": 3
        }
      ],
      "source": [
        "dataset.head()"
      ]
    },
    {
      "cell_type": "code",
      "execution_count": 4,
      "id": "070dfcac",
      "metadata": {
        "colab": {
          "base_uri": "https://localhost:8080/"
        },
        "id": "070dfcac",
        "outputId": "dc42e819-6567-4eb9-df3a-bf9fa1287825"
      },
      "outputs": [
        {
          "output_type": "stream",
          "name": "stdout",
          "text": [
            "<class 'pandas.core.frame.DataFrame'>\n",
            "RangeIndex: 1000 entries, 0 to 999\n",
            "Data columns (total 2 columns):\n",
            " #   Column  Non-Null Count  Dtype \n",
            "---  ------  --------------  ----- \n",
            " 0   Review  1000 non-null   object\n",
            " 1   Liked   1000 non-null   int64 \n",
            "dtypes: int64(1), object(1)\n",
            "memory usage: 15.8+ KB\n"
          ]
        }
      ],
      "source": [
        "# dataset contains no null values\n",
        "dataset.info()"
      ]
    },
    {
      "cell_type": "code",
      "execution_count": 5,
      "id": "cc6cc99b",
      "metadata": {
        "colab": {
          "base_uri": "https://localhost:8080/",
          "height": 279
        },
        "id": "cc6cc99b",
        "outputId": "fda2e5a6-e84c-4f5e-96f6-cd77705b2d54"
      },
      "outputs": [
        {
          "output_type": "display_data",
          "data": {
            "text/plain": [
              "<Figure size 432x288 with 1 Axes>"
            ],
            "image/png": "[encoded data removed]"
          },
          "metadata": {
            "needs_background": "light"
          }
        }
      ],
      "source": [
        "sns.countplot(x = 'Liked', data = dataset)\n",
        "plt.savefig('Class Count.jpg', bbox_inches = 'tight')\n",
        "# equal representation of the classes"
      ]
    },
    {
      "cell_type": "markdown",
      "source": [
        "Let's investigate the correlation between the number of characters and the Review sentiment."
      ],
      "metadata": {
        "id": "9uBs2nOORp80"
      },
      "id": "9uBs2nOORp80"
    },
    {
      "cell_type": "code",
      "execution_count": 6,
      "id": "ee7ad84d",
      "metadata": {
        "colab": {
          "base_uri": "https://localhost:8080/",
          "height": 206
        },
        "id": "ee7ad84d",
        "outputId": "52ec600f-9adb-4ad8-d622-2b82a1c97b6a"
      },
      "outputs": [
        {
          "output_type": "execute_result",
          "data": {
            "text/plain": [
              "                                              Review  Liked  Review Length\n",
              "0                           Wow... Loved this place.      1             24\n",
              "1                                 Crust is not good.      0             18\n",
              "2          Not tasty and the texture was just nasty.      0             41\n",
              "3  Stopped by during the late May bank holiday of...      1             87\n",
              "4  The selection on the menu was great and so wer...      1             59"
            ],
            "text/html": [
              "\n",
              "  <div id=\"df-6b0d27dd-88c2-49db-b59c-73dc4fb174f9\">\n",
              "    <div class=\"colab-df-container\">\n",
              "      <div>\n",
              "<style scoped>\n",
              "    .dataframe tbody tr th:only-of-type {\n",
              "        vertical-align: middle;\n",
              "    }\n",
              "\n",
              "    .dataframe tbody tr th {\n",
              "        vertical-align: top;\n",
              "    }\n",
              "\n",
              "    .dataframe thead th {\n",
              "        text-align: right;\n",
              "    }\n",
              "</style>\n",
              "<table border=\"1\" class=\"dataframe\">\n",
              "  <thead>\n",
              "    <tr style=\"text-align: right;\">\n",
              "      <th></th>\n",
              "      <th>Review</th>\n",
              "      <th>Liked</th>\n",
              "      <th>Review Length</th>\n",
              "    </tr>\n",
              "  </thead>\n",
              "  <tbody>\n",
              "    <tr>\n",
              "      <th>0</th>\n",
              "      <td>Wow... Loved this place.</td>\n",
              "      <td>1</td>\n",
              "      <td>24</td>\n",
              "    </tr>\n",
              "    <tr>\n",
              "      <th>1</th>\n",
              "      <td>Crust is not good.</td>\n",
              "      <td>0</td>\n",
              "      <td>18</td>\n",
              "    </tr>\n",
              "    <tr>\n",
              "      <th>2</th>\n",
              "      <td>Not tasty and the texture was just nasty.</td>\n",
              "      <td>0</td>\n",
              "      <td>41</td>\n",
              "    </tr>\n",
              "    <tr>\n",
              "      <th>3</th>\n",
              "      <td>Stopped by during the late May bank holiday of...</td>\n",
              "      <td>1</td>\n",
              "      <td>87</td>\n",
              "    </tr>\n",
              "    <tr>\n",
              "      <th>4</th>\n",
              "      <td>The selection on the menu was great and so wer...</td>\n",
              "      <td>1</td>\n",
              "      <td>59</td>\n",
              "    </tr>\n",
              "  </tbody>\n",
              "</table>\n",
              "</div>\n",
              "      <button class=\"colab-df-convert\" onclick=\"convertToInteractive('df-6b0d27dd-88c2-49db-b59c-73dc4fb174f9')\"\n",
              "              title=\"Convert this dataframe to an interactive table.\"\n",
              "              style=\"display:none;\">\n",
              "        \n",
              "  <svg xmlns=\"http://www.w3.org/2000/svg\" height=\"24px\"viewBox=\"0 0 24 24\"\n",
              "       width=\"24px\">\n",
              "    <path d=\"M0 0h24v24H0V0z\" fill=\"none\"/>\n",
              "    <path d=\"M18.56 5.44l.94 2.06.94-2.06 2.06-.94-2.06-.94-.94-2.06-.94 2.06-2.06.94zm-11 1L8.5 8.5l.94-2.06 2.06-.94-2.06-.94L8.5 2.5l-.94 2.06-2.06.94zm10 10l.94 2.06.94-2.06 2.06-.94-2.06-.94-.94-2.06-.94 2.06-2.06.94z\"/><path d=\"M17.41 7.96l-1.37-1.37c-.4-.4-.92-.59-1.43-.59-.52 0-1.04.2-1.43.59L10.3 9.45l-7.72 7.72c-.78.78-.78 2.05 0 2.83L4 21.41c.39.39.9.59 1.41.59.51 0 1.02-.2 1.41-.59l7.78-7.78 2.81-2.81c.8-.78.8-2.07 0-2.86zM5.41 20L4 18.59l7.72-7.72 1.47 1.35L5.41 20z\"/>\n",
              "  </svg>\n",
              "      </button>\n",
              "      \n",
              "  <style>\n",
              "    .colab-df-container {\n",
              "      display:flex;\n",
              "      flex-wrap:wrap;\n",
              "      gap: 12px;\n",
              "    }\n",
              "\n",
              "    .colab-df-convert {\n",
              "      background-color: #E8F0FE;\n",
              "      border: none;\n",
              "      border-radius: 50%;\n",
              "      cursor: pointer;\n",
              "      display: none;\n",
              "      fill: #1967D2;\n",
              "      height: 32px;\n",
              "      padding: 0 0 0 0;\n",
              "      width: 32px;\n",
              "    }\n",
              "\n",
              "    .colab-df-convert:hover {\n",
              "      background-color: #E2EBFA;\n",
              "      box-shadow: 0px 1px 2px rgba(60, 64, 67, 0.3), 0px 1px 3px 1px rgba(60, 64, 67, 0.15);\n",
              "      fill: #174EA6;\n",
              "    }\n",
              "\n",
              "    [theme=dark] .colab-df-convert {\n",
              "      background-color: #3B4455;\n",
              "      fill: #D2E3FC;\n",
              "    }\n",
              "\n",
              "    [theme=dark] .colab-df-convert:hover {\n",
              "      background-color: #434B5C;\n",
              "      box-shadow: 0px 1px 3px 1px rgba(0, 0, 0, 0.15);\n",
              "      filter: drop-shadow(0px 1px 2px rgba(0, 0, 0, 0.3));\n",
              "      fill: #FFFFFF;\n",
              "    }\n",
              "  </style>\n",
              "\n",
              "      <script>\n",
              "        const buttonEl =\n",
              "          document.querySelector('#df-6b0d27dd-88c2-49db-b59c-73dc4fb174f9 button.colab-df-convert');\n",
              "        buttonEl.style.display =\n",
              "          google.colab.kernel.accessAllowed ? 'block' : 'none';\n",
              "\n",
              "        async function convertToInteractive(key) {\n",
              "          const element = document.querySelector('#df-6b0d27dd-88c2-49db-b59c-73dc4fb174f9');\n",
              "          const dataTable =\n",
              "            await google.colab.kernel.invokeFunction('convertToInteractive',\n",
              "                                                     [key], {});\n",
              "          if (!dataTable) return;\n",
              "\n",
              "          const docLinkHtml = 'Like what you see? Visit the ' +\n",
              "            '<a target=\"_blank\" href=https://colab.research.google.com/notebooks/data_table.ipynb>data table notebook</a>'\n",
              "            + ' to learn more about interactive tables.';\n",
              "          element.innerHTML = '';\n",
              "          dataTable['output_type'] = 'display_data';\n",
              "          await google.colab.output.renderOutput(dataTable, element);\n",
              "          const docLink = document.createElement('div');\n",
              "          docLink.innerHTML = docLinkHtml;\n",
              "          element.appendChild(docLink);\n",
              "        }\n",
              "      </script>\n",
              "    </div>\n",
              "  </div>\n",
              "  "
            ]
          },
          "metadata": {},
          "execution_count": 6
        }
      ],
      "source": [
        "# make a new column 'Review Length' which will be equivolent to number of characters in the Review\n",
        "dataset['Review Length'] = dataset['Review'].apply(len)\n",
        "dataset.head()"
      ]
    },
    {
      "cell_type": "code",
      "execution_count": 7,
      "id": "aacef43d",
      "metadata": {
        "colab": {
          "base_uri": "https://localhost:8080/",
          "height": 314
        },
        "id": "aacef43d",
        "outputId": "c73056c0-c89c-435c-d485-b5da43c0cff1"
      },
      "outputs": [
        {
          "output_type": "execute_result",
          "data": {
            "text/plain": [
              "Text(10.050000000000004, 0.5, 'Frequency')"
            ]
          },
          "metadata": {},
          "execution_count": 7
        },
        {
          "output_type": "display_data",
          "data": {
            "text/plain": [
              "<Figure size 576x288 with 1 Axes>"
            ],
            "image/png": "[encoded data removed]"
          },
          "metadata": {
            "needs_background": "light"
          }
        }
      ],
      "source": [
        "# using a facet grid to map the two distributions we obtain the following\n",
        "g = sns.FacetGrid(dataset, hue='Liked', palette='coolwarm', height=4, aspect=2)\n",
        "g = g.map(plt.hist, 'Review Length', bins=20)\n",
        "plt.legend(['Disliked', 'Liked'], loc = 'upper right')\n",
        "plt.ylabel('Frequency')\n",
        "# no obvious difference in distribution between the two classes"
      ]
    },
    {
      "cell_type": "markdown",
      "source": [
        "The does not appear to be a correlation between text length and customer sentiment. Both classes also have review lengths that span the same ranges."
      ],
      "metadata": {
        "id": "aCyMgGaqSnqK"
      },
      "id": "aCyMgGaqSnqK"
    },
    {
      "cell_type": "code",
      "execution_count": 8,
      "id": "d3636662",
      "metadata": {
        "colab": {
          "base_uri": "https://localhost:8080/",
          "height": 341
        },
        "id": "d3636662",
        "outputId": "e3a155d1-1f62-43f5-bf24-c1c214a5eafb"
      },
      "outputs": [
        {
          "output_type": "execute_result",
          "data": {
            "text/plain": [
              "array([<matplotlib.axes._subplots.AxesSubplot object at 0x7f13365b34d0>,\n",
              "       <matplotlib.axes._subplots.AxesSubplot object at 0x7f13365649d0>],\n",
              "      dtype=object)"
            ]
          },
          "metadata": {},
          "execution_count": 8
        },
        {
          "output_type": "display_data",
          "data": {
            "text/plain": [
              "<Figure size 864x288 with 2 Axes>"
            ],
            "image/png": "[encoded data removed]"
          },
          "metadata": {
            "needs_background": "light"
          }
        }
      ],
      "source": [
        "dataset.hist(column = 'Review Length', by = 'Liked', bins = 60, figsize = (12,4))"
      ]
    },
    {
      "cell_type": "markdown",
      "id": "2273203b",
      "metadata": {
        "id": "2273203b"
      },
      "source": [
        "**EDIT TEXT**"
      ]
    },
    {
      "cell_type": "markdown",
      "source": [
        "We will next edit the texts to ready them for the bag of words tranformer. The nltk and string library will provide the list of punctuation marks and stopwords (commonly used words which are theorized to not affect model performance) to edit the reviews. "
      ],
      "metadata": {
        "id": "l6qI8YeWTI40"
      },
      "id": "l6qI8YeWTI40"
    },
    {
      "cell_type": "code",
      "execution_count": 13,
      "id": "63177c52",
      "metadata": {
        "colab": {
          "base_uri": "https://localhost:8080/"
        },
        "id": "63177c52",
        "outputId": "6ccbf2de-9588-42a2-c3fc-aec9dcb5ef26"
      },
      "outputs": [
        {
          "name": "stdout",
          "output_type": "stream",
          "text": [
            "NLTK Downloader\n",
            "---------------------------------------------------------------------------\n",
            "    d) Download   l) List    u) Update   c) Config   h) Help   q) Quit\n",
            "---------------------------------------------------------------------------\n",
            "Downloader> D\n",
            "\n",
            "Download which package (l=list; x=cancel)?\n",
            "  Identifier> stopwords\n"
          ]
        },
        {
          "output_type": "stream",
          "name": "stderr",
          "text": [
            "    Downloading package stopwords to /root/nltk_data...\n",
            "      Unzipping corpora/stopwords.zip.\n"
          ]
        },
        {
          "name": "stdout",
          "output_type": "stream",
          "text": [
            "\n",
            "---------------------------------------------------------------------------\n",
            "    d) Download   l) List    u) Update   c) Config   h) Help   q) Quit\n",
            "---------------------------------------------------------------------------\n",
            "Downloader> q\n"
          ]
        },
        {
          "output_type": "execute_result",
          "data": {
            "text/plain": [
              "True"
            ]
          },
          "metadata": {},
          "execution_count": 13
        }
      ],
      "source": [
        "# import string and nltk then download stopwords\n",
        "import string\n",
        "from nltk.corpus import stopwords\n",
        "import nltk\n",
        "nltk.download()"
      ]
    },
    {
      "cell_type": "code",
      "execution_count": 15,
      "id": "3bb48b31",
      "metadata": {
        "id": "3bb48b31"
      },
      "outputs": [],
      "source": [
        "# some stopwords might be necessary to include as they are used often with negative reviews\n",
        "# we can create a new list of stopwords that will not be editted out of the reviews\n",
        "\n",
        "stopwords_to_include = ['not','off','out','down','below','against','but',\"wouldn't\",\"wouldn\",\"won't\",\"weren't\",\n",
        "                       \"weren\",\"wasn't\",\"shouldn't\",'shouldn',\"isn't\",\"haven't\",\"hasn't\",\"doesn't\",\"didn't\",\"couldn't\",\"aren't\"]\n",
        "stopwords_to_exclude = [word for word in stopwords.words('english') if word not in stopwords_to_include]"
      ]
    },
    {
      "cell_type": "code",
      "execution_count": 16,
      "id": "91a38d7f",
      "metadata": {
        "id": "91a38d7f"
      },
      "outputs": [],
      "source": [
        "# create function to edit reviews in dataframe\n",
        "def text_process(review):\n",
        "    \"\"\"\n",
        "    The below function will:\n",
        "    1. remove punctuation\n",
        "    2. remove stopwords\n",
        "    3. return list of clean text words\n",
        "    \"\"\"\n",
        "\n",
        "    global stopwords_to_exclude\n",
        "    \n",
        "    nopunc = [char for char in review if char not in string.punctuation]\n",
        "    \n",
        "    nopunc = ''.join(nopunc)\n",
        "    \n",
        "    review_edit = [word for word in nopunc.split() if word.lower() not in stopwords_to_exclude]\n",
        "    \n",
        "    return [word.lower() for word in review_edit]"
      ]
    },
    {
      "cell_type": "markdown",
      "id": "b9754925",
      "metadata": {
        "id": "b9754925"
      },
      "source": [
        "**TRAIN TEST SPLIT**"
      ]
    },
    {
      "cell_type": "code",
      "execution_count": 17,
      "id": "a9a6f4b9",
      "metadata": {
        "id": "a9a6f4b9"
      },
      "outputs": [],
      "source": [
        "# split the data between the train and test set and use a test size equal to 30%\n",
        "from sklearn.model_selection import train_test_split"
      ]
    },
    {
      "cell_type": "code",
      "execution_count": 18,
      "id": "4e8371ed",
      "metadata": {
        "id": "4e8371ed"
      },
      "outputs": [],
      "source": [
        "X = dataset.iloc[:,0:1] \n",
        "y = dataset.iloc[:,1:2]"
      ]
    },
    {
      "cell_type": "code",
      "execution_count": 19,
      "id": "06856749",
      "metadata": {
        "id": "06856749"
      },
      "outputs": [],
      "source": [
        "X_train, X_test, y_train, y_test = train_test_split(X, y, test_size=0.3, random_state=42)"
      ]
    },
    {
      "cell_type": "markdown",
      "id": "4fa92e5b",
      "metadata": {
        "id": "4fa92e5b"
      },
      "source": [
        "**TRANSFORM REVIEWS TO TFIDF**"
      ]
    },
    {
      "cell_type": "code",
      "execution_count": 20,
      "id": "985981fd",
      "metadata": {
        "id": "985981fd"
      },
      "outputs": [],
      "source": [
        "from sklearn.feature_extraction.text import CountVectorizer\n",
        "from sklearn.feature_extraction.text import TfidfTransformer"
      ]
    },
    {
      "cell_type": "code",
      "execution_count": 21,
      "id": "b252278b",
      "metadata": {
        "id": "b252278b"
      },
      "outputs": [],
      "source": [
        "# bag of words transformer for both train and test set\n",
        "bow_transformer = CountVectorizer(analyzer = text_process)\n",
        "bow_transformer.fit(X_train['Review'])\n",
        "X_train_bow = bow_transformer.transform(X_train['Review'])\n",
        "X_test_bow = bow_transformer.transform(X_test['Review'])"
      ]
    },
    {
      "cell_type": "code",
      "execution_count": 22,
      "id": "94fc8546",
      "metadata": {
        "id": "94fc8546"
      },
      "outputs": [],
      "source": [
        "# tfidf transformer\n",
        "# convert output tfidf matrix into an array to ensure compatibility with tensorflow\n",
        "tfidf_transformer = TfidfTransformer()\n",
        "tfidf_transformer.fit(X_train_bow)\n",
        "X_train_tfidf = tfidf_transformer.transform(X_train_bow)\n",
        "X_test_tfidf = tfidf_transformer.transform(X_test_bow)\n",
        "X_train_tfidf = X_train_tfidf.toarray()\n",
        "X_test_tfidf = X_test_tfidf.toarray()"
      ]
    },
    {
      "cell_type": "markdown",
      "id": "4b153620",
      "metadata": {
        "id": "4b153620"
      },
      "source": [
        "**BUILDING ARTIFICIAL NEURAL NETWORK**"
      ]
    },
    {
      "cell_type": "code",
      "execution_count": 23,
      "id": "7fa87e64",
      "metadata": {
        "id": "7fa87e64"
      },
      "outputs": [],
      "source": [
        "# import neural netwrok libraries\n",
        "from tensorflow.keras.models import Sequential\n",
        "from tensorflow.keras.layers import Dense\n",
        "from tensorflow.keras.layers import Dropout\n",
        "from tensorflow.keras.callbacks import EarlyStopping\n",
        "from sklearn.preprocessing import MinMaxScaler"
      ]
    },
    {
      "cell_type": "code",
      "execution_count": 24,
      "id": "82c02174",
      "metadata": {
        "id": "82c02174"
      },
      "outputs": [],
      "source": [
        "# minmaxscaler will convert all values to lie between 0 and 1\n",
        "from sklearn.preprocessing import MinMaxScaler\n",
        "sc = MinMaxScaler()\n",
        "X_train_tfidf = sc.fit_transform(X_train_tfidf)\n",
        "X_test_tfidf = sc.transform(X_test_tfidf)"
      ]
    },
    {
      "cell_type": "code",
      "execution_count": 25,
      "id": "53228671",
      "metadata": {
        "id": "53228671"
      },
      "outputs": [],
      "source": [
        "model = Sequential()\n",
        "model.add(Dense(units=1596, activation = 'relu'))\n",
        "model.add(Dropout(0.2))\n",
        "model.add(Dense(units=1000, activation = 'relu'))\n",
        "model.add(Dropout(0.2))\n",
        "model.add(Dense(units=1000, activation = 'relu'))\n",
        "model.add(Dropout(0.2))\n",
        "model.add(Dense(units=1, activation = 'sigmoid'))\n",
        "\n",
        "model.compile(optimizer='adam', loss='mse',metrics=['accuracy'])"
      ]
    },
    {
      "cell_type": "code",
      "execution_count": 26,
      "id": "726a10d5",
      "metadata": {
        "colab": {
          "base_uri": "https://localhost:8080/"
        },
        "id": "726a10d5",
        "outputId": "85f10fdf-2a53-4033-e958-959bdde72776"
      },
      "outputs": [
        {
          "output_type": "stream",
          "name": "stdout",
          "text": [
            "Epoch 1/25\n",
            "22/22 [==============================] - 3s 87ms/step - loss: 0.2360 - accuracy: 0.6000 - val_loss: 0.1848 - val_accuracy: 0.7300\n",
            "Epoch 2/25\n",
            "22/22 [==============================] - 2s 73ms/step - loss: 0.0337 - accuracy: 0.9700 - val_loss: 0.1676 - val_accuracy: 0.7933\n",
            "Epoch 3/25\n",
            "22/22 [==============================] - 2s 74ms/step - loss: 0.0021 - accuracy: 0.9986 - val_loss: 0.2019 - val_accuracy: 0.7567\n",
            "Epoch 4/25\n",
            "22/22 [==============================] - 2s 108ms/step - loss: 1.1999e-04 - accuracy: 1.0000 - val_loss: 0.1898 - val_accuracy: 0.7800\n",
            "Epoch 5/25\n",
            "22/22 [==============================] - 2s 73ms/step - loss: 7.0678e-06 - accuracy: 1.0000 - val_loss: 0.1881 - val_accuracy: 0.7833\n",
            "Epoch 6/25\n",
            "22/22 [==============================] - 2s 72ms/step - loss: 3.8293e-06 - accuracy: 1.0000 - val_loss: 0.1881 - val_accuracy: 0.7833\n",
            "Epoch 7/25\n",
            "22/22 [==============================] - 2s 73ms/step - loss: 1.4924e-05 - accuracy: 1.0000 - val_loss: 0.1896 - val_accuracy: 0.7800\n",
            "Epoch 8/25\n",
            "22/22 [==============================] - 2s 73ms/step - loss: 2.3029e-06 - accuracy: 1.0000 - val_loss: 0.1898 - val_accuracy: 0.7800\n",
            "Epoch 9/25\n",
            "22/22 [==============================] - 2s 73ms/step - loss: 2.4837e-06 - accuracy: 1.0000 - val_loss: 0.1898 - val_accuracy: 0.7800\n",
            "Epoch 10/25\n",
            "22/22 [==============================] - 2s 73ms/step - loss: 3.3778e-06 - accuracy: 1.0000 - val_loss: 0.1896 - val_accuracy: 0.7800\n",
            "Epoch 11/25\n",
            "22/22 [==============================] - 2s 71ms/step - loss: 2.9239e-06 - accuracy: 1.0000 - val_loss: 0.1896 - val_accuracy: 0.7800\n",
            "Epoch 12/25\n",
            "22/22 [==============================] - 2s 72ms/step - loss: 2.8949e-06 - accuracy: 1.0000 - val_loss: 0.1896 - val_accuracy: 0.7767\n",
            "Epoch 13/25\n",
            "22/22 [==============================] - 2s 73ms/step - loss: 1.4006e-06 - accuracy: 1.0000 - val_loss: 0.1896 - val_accuracy: 0.7767\n",
            "Epoch 14/25\n",
            "22/22 [==============================] - 2s 106ms/step - loss: 1.6475e-06 - accuracy: 1.0000 - val_loss: 0.1896 - val_accuracy: 0.7767\n",
            "Epoch 15/25\n",
            "22/22 [==============================] - 2s 89ms/step - loss: 1.3715e-06 - accuracy: 1.0000 - val_loss: 0.1896 - val_accuracy: 0.7800\n",
            "Epoch 16/25\n",
            "22/22 [==============================] - 2s 72ms/step - loss: 1.6367e-06 - accuracy: 1.0000 - val_loss: 0.1895 - val_accuracy: 0.7800\n",
            "Epoch 17/25\n",
            "22/22 [==============================] - 2s 72ms/step - loss: 1.0714e-06 - accuracy: 1.0000 - val_loss: 0.1896 - val_accuracy: 0.7800\n",
            "Epoch 18/25\n",
            "22/22 [==============================] - 2s 73ms/step - loss: 1.3533e-06 - accuracy: 1.0000 - val_loss: 0.1895 - val_accuracy: 0.7800\n",
            "Epoch 19/25\n",
            "22/22 [==============================] - 2s 73ms/step - loss: 1.3401e-06 - accuracy: 1.0000 - val_loss: 0.1895 - val_accuracy: 0.7800\n",
            "Epoch 20/25\n",
            "22/22 [==============================] - 2s 73ms/step - loss: 1.1219e-06 - accuracy: 1.0000 - val_loss: 0.1895 - val_accuracy: 0.7800\n",
            "Epoch 21/25\n",
            "22/22 [==============================] - 2s 73ms/step - loss: 1.3146e-06 - accuracy: 1.0000 - val_loss: 0.1895 - val_accuracy: 0.7833\n",
            "Epoch 22/25\n",
            "22/22 [==============================] - 2s 73ms/step - loss: 1.0823e-06 - accuracy: 1.0000 - val_loss: 0.1895 - val_accuracy: 0.7800\n",
            "Epoch 23/25\n",
            "22/22 [==============================] - 2s 73ms/step - loss: 1.2333e-06 - accuracy: 1.0000 - val_loss: 0.1895 - val_accuracy: 0.7800\n",
            "Epoch 24/25\n",
            "22/22 [==============================] - 2s 72ms/step - loss: 8.6901e-07 - accuracy: 1.0000 - val_loss: 0.1895 - val_accuracy: 0.7800\n",
            "Epoch 25/25\n",
            "22/22 [==============================] - 2s 73ms/step - loss: 1.0006e-06 - accuracy: 1.0000 - val_loss: 0.1895 - val_accuracy: 0.7800\n"
          ]
        },
        {
          "output_type": "execute_result",
          "data": {
            "text/plain": [
              "<keras.callbacks.History at 0x7f12d759df10>"
            ]
          },
          "metadata": {},
          "execution_count": 26
        }
      ],
      "source": [
        "model.fit(X_train_tfidf, y_train['Liked'], validation_data=(X_test_tfidf, y_test['Liked']), epochs = 25)"
      ]
    },
    {
      "cell_type": "markdown",
      "id": "2f1b7d09",
      "metadata": {
        "id": "2f1b7d09"
      },
      "source": [
        "**ASSESS MODEL PERFORMANCE**"
      ]
    },
    {
      "cell_type": "code",
      "execution_count": 27,
      "id": "7da69aad",
      "metadata": {
        "colab": {
          "base_uri": "https://localhost:8080/",
          "height": 298
        },
        "id": "7da69aad",
        "outputId": "c0077312-87c8-4850-9214-b33c6a4b0ba7"
      },
      "outputs": [
        {
          "output_type": "execute_result",
          "data": {
            "text/plain": [
              "<matplotlib.legend.Legend at 0x7f12d3203d90>"
            ]
          },
          "metadata": {},
          "execution_count": 27
        },
        {
          "output_type": "display_data",
          "data": {
            "text/plain": [
              "<Figure size 432x288 with 1 Axes>"
            ],
            "image/png": "[encoded data removed]"
          },
          "metadata": {
            "needs_background": "light"
          }
        }
      ],
      "source": [
        "# plot the model performance visualizations and assess probable overfitting\n",
        "model_performance = pd.DataFrame(model.history.history)\n",
        "plt.plot(model_performance['accuracy'])\n",
        "plt.plot(model_performance['val_accuracy'])\n",
        "plt.title('Model Accuracy')\n",
        "plt.ylabel('Accuracy')\n",
        "plt.legend(['Accuracy','Val_accuracy'], loc = 'upper left')"
      ]
    },
    {
      "cell_type": "markdown",
      "source": [
        "The model ends up with an accuracy of **78%**. It took less than 5 epochs for the model to converge to this accuracy. Not a high degree of overfitting is observed as this accuracy is maintained throughout the entire training phase of the model. <br>\n",
        "<br>\n",
        "The high training accuracy (100%) will need to be investigated as this is not entirely reflected on the validation accuracy. The overall size of this dataset might have a part to play in this, due to there being potentially more words in testing set unencountered and thus not included in the bag of words matrix. A larger dataset will most certainly try to address this problem.<br>\n",
        "<br>\n",
        "Methods to improve accuracy can include:<br>\n",
        "\n",
        "\n",
        "*   Updating stopwords and ensuring that we are not editting our valuable information\n",
        "*   Updating Neural Network by tweaking number of layers and number of neurons\n",
        "\n",
        "*   Using k-fold validation to see the highest possible accuracy achievable using this dataset\n",
        "*   Performing more feature engineering to create new columns for the dataset.\n",
        "\n",
        "\n",
        "\n",
        "\n",
        "\n",
        "\n",
        "\n",
        "\n",
        "\n"
      ],
      "metadata": {
        "id": "LamhFg9HW4L9"
      },
      "id": "LamhFg9HW4L9"
    }
  ],
  "metadata": {
    "kernelspec": {
      "display_name": "Python 3",
      "language": "python",
      "name": "python3"
    },
    "language_info": {
      "codemirror_mode": {
        "name": "ipython",
        "version": 3
      },
      "file_extension": ".py",
      "mimetype": "text/x-python",
      "name": "python",
      "nbconvert_exporter": "python",
      "pygments_lexer": "ipython3",
      "version": "3.8.8"
    },
    "colab": {
      "provenance": []
    }
  },
  "nbformat": 4,
  "nbformat_minor": 5
}
